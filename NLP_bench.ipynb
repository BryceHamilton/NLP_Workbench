{
 "cells": [
  {
   "cell_type": "code",
   "execution_count": 31,
   "outputs": [],
   "source": [
    "import numpy as np\n",
    "train_file = open('covid_training.tsv', 'r', encoding='utf-8')\n",
    "tweets = {}\n",
    "vocabulary = []\n",
    "\n",
    "next(train_file) # skip header\n",
    "\n",
    "for line in train_file:\n",
    "    # split tsv lines\n",
    "    split_line = line.split(\"\\t\")\n",
    "    \n",
    "    # get tweet data and fold to lower case\n",
    "    tweet_id = split_line[0]\n",
    "    tweet_text = split_line[1].lower()\n",
    "    q_label = split_line[2]\n",
    "    \n",
    "    # get tweet text\n",
    "    split_text = tweet_text.split(\" \")\n",
    "    tweet_vector = {}\n",
    "    for token in split_text:\n",
    "        # add term to tweet_vector and count frequency\n",
    "        if token not in tweet_vector.keys():\n",
    "            vocabulary.append(token)\n",
    "            tweet_vector[token] = 0\n",
    "        else:\n",
    "            tweet_vector[token] += 1\n",
    "            \n",
    "    # add tweet vector and label to tweets dictionary\n",
    "    tweets[tweet_id] = (tweet_vector, q_label)"
   ],
   "metadata": {
    "collapsed": false,
    "pycharm": {
     "name": "#%%\n",
     "is_executing": false
    }
   }
  }
 ],
 "metadata": {
  "kernelspec": {
   "display_name": "Python 3",
   "language": "python",
   "name": "python3"
  },
  "language_info": {
   "codemirror_mode": {
    "name": "ipython",
    "version": 2
   },
   "file_extension": ".py",
   "mimetype": "text/x-python",
   "name": "python",
   "nbconvert_exporter": "python",
   "pygments_lexer": "ipython2",
   "version": "2.7.6"
  },
  "pycharm": {
   "stem_cell": {
    "cell_type": "raw",
    "source": [],
    "metadata": {
     "collapsed": false
    }
   }
  }
 },
 "nbformat": 4,
 "nbformat_minor": 0
}